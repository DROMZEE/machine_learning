{
 "cells": [
  {
   "cell_type": "markdown",
   "metadata": {
    "toc": true
   },
   "source": [
    "<h1>Table of Contents<span class=\"tocSkip\"></span></h1>\n",
    "<div class=\"toc\"><ul class=\"toc-item\"><li><span><a href=\"#La-régression-logistique\" data-toc-modified-id=\"La-régression-logistique-1\"><span class=\"toc-item-num\">1&nbsp;&nbsp;</span>La régression logistique</a></span><ul class=\"toc-item\"><li><span><a href=\"#Pourquoi-la-régression-logistique-?\" data-toc-modified-id=\"Pourquoi-la-régression-logistique-?-1.1\"><span class=\"toc-item-num\">1.1&nbsp;&nbsp;</span>Pourquoi la régression logistique ?</a></span></li><li><span><a href=\"#Intuition-de-la-régression-logistique\" data-toc-modified-id=\"Intuition-de-la-régression-logistique-1.2\"><span class=\"toc-item-num\">1.2&nbsp;&nbsp;</span>Intuition de la régression logistique</a></span><ul class=\"toc-item\"><li><span><a href=\"#Importer-et-afficher-les-données-email_offer.csv\" data-toc-modified-id=\"Importer-et-afficher-les-données-email_offer.csv-1.2.1\"><span class=\"toc-item-num\">1.2.1&nbsp;&nbsp;</span>Importer et afficher les données email_offer.csv</a></span></li><li><span><a href=\"#Tracer-le-scatter-plot-de-y-(TookAction)-en-fonction-de-x-(Age)\" data-toc-modified-id=\"Tracer-le-scatter-plot-de-y-(TookAction)-en-fonction-de-x-(Age)-1.2.2\"><span class=\"toc-item-num\">1.2.2&nbsp;&nbsp;</span>Tracer le scatter plot de y (TookAction) en fonction de x (Age)</a></span></li><li><span><a href=\"#Entrainer-un-modèle-de-régression-linéaire-et-afficher-la-droite-de-régression-sur-le-scatter-plot\" data-toc-modified-id=\"Entrainer-un-modèle-de-régression-linéaire-et-afficher-la-droite-de-régression-sur-le-scatter-plot-1.2.3\"><span class=\"toc-item-num\">1.2.3&nbsp;&nbsp;</span>Entrainer un modèle de régression linéaire et afficher la droite de régression sur le scatter plot</a></span></li><li><span><a href=\"#Coder-la-fonction-sigmoïde-et-afficher-son-graphe\" data-toc-modified-id=\"Coder-la-fonction-sigmoïde-et-afficher-son-graphe-1.2.4\"><span class=\"toc-item-num\">1.2.4&nbsp;&nbsp;</span>Coder la fonction sigmoïde et afficher son graphe</a></span></li></ul></li><li><span><a href=\"#Une-première-régression-logistique\" data-toc-modified-id=\"Une-première-régression-logistique-1.3\"><span class=\"toc-item-num\">1.3&nbsp;&nbsp;</span>Une première régression logistique</a></span><ul class=\"toc-item\"><li><span><a href=\"#Construire-un-premier-modèle-de-régression-logistique-avec-uniquement-l'âge-comme-variable-explicative\" data-toc-modified-id=\"Construire-un-premier-modèle-de-régression-logistique-avec-uniquement-l'âge-comme-variable-explicative-1.3.1\"><span class=\"toc-item-num\">1.3.1&nbsp;&nbsp;</span>Construire un premier modèle de régression logistique avec uniquement l'âge comme variable explicative</a></span></li><li><span><a href=\"#Afficher-sur-un-même-graphique,-le-scatter-plot,-la-droite-de-régression-et-les-probabilités\" data-toc-modified-id=\"Afficher-sur-un-même-graphique,-le-scatter-plot,-la-droite-de-régression-et-les-probabilités-1.3.2\"><span class=\"toc-item-num\">1.3.2&nbsp;&nbsp;</span>Afficher sur un même graphique, le scatter plot, la droite de régression et les probabilités</a></span></li><li><span><a href=\"#Construire-un-second-modèle-de-régression-logistique-avec-cette-fois-l'âge-et-le-genre-comme-variables-explicatives-et-visualiser-sur-les-résultats-sur-le-même-graphique-que-précédemment\" data-toc-modified-id=\"Construire-un-second-modèle-de-régression-logistique-avec-cette-fois-l'âge-et-le-genre-comme-variables-explicatives-et-visualiser-sur-les-résultats-sur-le-même-graphique-que-précédemment-1.3.3\"><span class=\"toc-item-num\">1.3.3&nbsp;&nbsp;</span>Construire un second modèle de régression logistique avec cette fois l'âge et le genre comme variables explicatives et visualiser sur les résultats sur le même graphique que précédemment</a></span></li></ul></li><li><span><a href=\"#Évaluation-du-modèle\" data-toc-modified-id=\"Évaluation-du-modèle-1.4\"><span class=\"toc-item-num\">1.4&nbsp;&nbsp;</span>Évaluation du modèle</a></span><ul class=\"toc-item\"><li><span><a href=\"#Matrice-de-confusion\" data-toc-modified-id=\"Matrice-de-confusion-1.4.1\"><span class=\"toc-item-num\">1.4.1&nbsp;&nbsp;</span>Matrice de confusion</a></span></li><li><span><a href=\"#Affichage-des-probabilités\" data-toc-modified-id=\"Affichage-des-probabilités-1.4.2\"><span class=\"toc-item-num\">1.4.2&nbsp;&nbsp;</span>Affichage des probabilités</a></span></li><li><span><a href=\"#Courbe-ROC-et-AUC\" data-toc-modified-id=\"Courbe-ROC-et-AUC-1.4.3\"><span class=\"toc-item-num\">1.4.3&nbsp;&nbsp;</span>Courbe ROC et AUC</a></span></li></ul></li><li><span><a href=\"#Interprétation-des-coefficients\" data-toc-modified-id=\"Interprétation-des-coefficients-1.5\"><span class=\"toc-item-num\">1.5&nbsp;&nbsp;</span>Interprétation des coefficients</a></span></li></ul></li></ul></div>"
   ]
  },
  {
   "cell_type": "markdown",
   "metadata": {},
   "source": [
    "# La régression logistique"
   ]
  },
  {
   "cell_type": "markdown",
   "metadata": {},
   "source": [
    "## Pourquoi la régression logistique ?"
   ]
  },
  {
   "cell_type": "markdown",
   "metadata": {},
   "source": [
    "La régression logistique est un __modèle linéaire généralisé__ qui permet de répondre au cas où la variable dépendante (celle qu'on cherche à expliquer) est qualitative. Les variables explicatives (ou indépendantes) peuvent être quantitative ou qualitative.  \n",
    "Il existe trois types de régressions logistiques :\n",
    "- la régression logistique ordinaire ou régression logistique binaire lorsque la variable d’intérêt est binaire (oui/non, vrai/faux)\n",
    "- la régression logistique multinomiale qui est une extension aux variables qualitatives à trois modalités ou plus\n",
    "- la régression logistique ordinale qui correspond au cas où la variable qualitative au moins 3 modalités ordonnées hiérarchiquement"
   ]
  },
  {
   "cell_type": "markdown",
   "metadata": {},
   "source": [
    "Exemples de problèmes :\n",
    "- déterminer si un objet est défectueux en fonction par exemple du matériau utilisé, de la température de fabrication, de l'humidité, etc...\n",
    "- déterminer si un client a cliqué sur l'offre promotionnelle contenue dans un email selon différentes caractéristiques individuelles (âge, sexe, urbain/rural, etc...).Plus généralement les problèmes de segmentation de clients\n",
    "- déterminer si un email est un SPAM ou non\n",
    "- en médicine : déterminer si une tumeur est maligne/bénine, si un médicament permet la guérison ou non, etc...\n",
    "\n",
    "$\\Rightarrow$ ce sont des problèmes de __classification__"
   ]
  },
  {
   "cell_type": "markdown",
   "metadata": {},
   "source": [
    "## Intuition de la régression logistique"
   ]
  },
  {
   "cell_type": "markdown",
   "metadata": {},
   "source": [
    "### Importer et afficher les données email_offer.csv"
   ]
  },
  {
   "cell_type": "code",
   "execution_count": 2,
   "metadata": {},
   "outputs": [
    {
     "data": {
      "text/html": [
       "<div>\n",
       "<style scoped>\n",
       "    .dataframe tbody tr th:only-of-type {\n",
       "        vertical-align: middle;\n",
       "    }\n",
       "\n",
       "    .dataframe tbody tr th {\n",
       "        vertical-align: top;\n",
       "    }\n",
       "\n",
       "    .dataframe thead th {\n",
       "        text-align: right;\n",
       "    }\n",
       "</style>\n",
       "<table border=\"1\" class=\"dataframe\">\n",
       "  <thead>\n",
       "    <tr style=\"text-align: right;\">\n",
       "      <th></th>\n",
       "      <th>Age</th>\n",
       "      <th>Gender</th>\n",
       "      <th>TookAction</th>\n",
       "    </tr>\n",
       "  </thead>\n",
       "  <tbody>\n",
       "    <tr>\n",
       "      <th>0</th>\n",
       "      <td>38</td>\n",
       "      <td>Female</td>\n",
       "      <td>0</td>\n",
       "    </tr>\n",
       "    <tr>\n",
       "      <th>1</th>\n",
       "      <td>32</td>\n",
       "      <td>Female</td>\n",
       "      <td>0</td>\n",
       "    </tr>\n",
       "    <tr>\n",
       "      <th>2</th>\n",
       "      <td>46</td>\n",
       "      <td>Male</td>\n",
       "      <td>1</td>\n",
       "    </tr>\n",
       "    <tr>\n",
       "      <th>3</th>\n",
       "      <td>34</td>\n",
       "      <td>Male</td>\n",
       "      <td>0</td>\n",
       "    </tr>\n",
       "    <tr>\n",
       "      <th>4</th>\n",
       "      <td>40</td>\n",
       "      <td>Male</td>\n",
       "      <td>0</td>\n",
       "    </tr>\n",
       "  </tbody>\n",
       "</table>\n",
       "</div>"
      ],
      "text/plain": [
       "   Age  Gender  TookAction\n",
       "0   38  Female           0\n",
       "1   32  Female           0\n",
       "2   46    Male           1\n",
       "3   34    Male           0\n",
       "4   40    Male           0"
      ]
     },
     "execution_count": 2,
     "metadata": {},
     "output_type": "execute_result"
    }
   ],
   "source": [
    "import pandas as pd\n",
    "data = pd.read_csv('data/email_offer.csv')\n",
    "data.head()"
   ]
  },
  {
   "cell_type": "markdown",
   "metadata": {},
   "source": [
    "### Tracer le scatter plot de y (TookAction) en fonction de x (Age)"
   ]
  },
  {
   "cell_type": "code",
   "execution_count": 3,
   "metadata": {},
   "outputs": [
    {
     "data": {
      "image/png": "[encoded data removed]",
      "text/plain": [
       "<Figure size 432x288 with 1 Axes>"
      ]
     },
     "metadata": {
      "needs_background": "light"
     },
     "output_type": "display_data"
    }
   ],
   "source": [
    "import matplotlib.pyplot as plt\n",
    "plt.scatter(data.Age,data.TookAction)\n",
    "plt.show()"
   ]
  },
  {
   "cell_type": "markdown",
   "metadata": {},
   "source": [
    "### Entrainer un modèle de régression linéaire et afficher la droite de régression sur le scatter plot"
   ]
  },
  {
   "cell_type": "code",
   "execution_count": 4,
   "metadata": {},
   "outputs": [
    {
     "data": {
      "image/png": "[encoded data removed]",
      "text/plain": [
       "<Figure size 432x288 with 1 Axes>"
      ]
     },
     "metadata": {
      "needs_background": "light"
     },
     "output_type": "display_data"
    }
   ],
   "source": [
    "# Les données\n",
    "x = data['Age'].values.reshape(-1,1)\n",
    "y = data['TookAction']\n",
    "\n",
    "# Construction du modèle\n",
    "from sklearn.linear_model import LinearRegression\n",
    "model = LinearRegression()\n",
    "model.fit(x,y)\n",
    "\n",
    "# Visualisation\n",
    "plt.scatter(x,y)\n",
    "plt.plot(x,model.predict(x),c='red')\n",
    "plt.show()"
   ]
  },
  {
   "cell_type": "markdown",
   "metadata": {},
   "source": [
    "### Coder la fonction sigmoïde et afficher son graphe"
   ]
  },
  {
   "cell_type": "code",
   "execution_count": 5,
   "metadata": {},
   "outputs": [
    {
     "data": {
      "image/png": "[encoded data removed]",
      "text/plain": [
       "<Figure size 432x288 with 1 Axes>"
      ]
     },
     "metadata": {
      "needs_background": "light"
     },
     "output_type": "display_data"
    }
   ],
   "source": [
    "import numpy as np\n",
    "from math import exp\n",
    "sig = lambda x : 1/(1+exp(-x))\n",
    "x_values = np.arange(-10,10,0.1)\n",
    "plt.plot(x_values,list(map(sig,x_values)))\n",
    "plt.show()"
   ]
  },
  {
   "cell_type": "markdown",
   "metadata": {},
   "source": [
    "## Une première régression logistique"
   ]
  },
  {
   "cell_type": "markdown",
   "metadata": {},
   "source": [
    "### Construire un premier modèle de régression logistique avec uniquement l'âge comme variable explicative"
   ]
  },
  {
   "cell_type": "code",
   "execution_count": 6,
   "metadata": {},
   "outputs": [
    {
     "name": "stdout",
     "output_type": "stream",
     "text": [
      "[[55  5]\n",
      " [ 5 35]]\n"
     ]
    }
   ],
   "source": [
    "x = data['Age'].values.reshape(-1,1)\n",
    "y = data['TookAction']\n",
    "\n",
    "# Modèle de régression logistique\n",
    "from sklearn.linear_model import LogisticRegression\n",
    "reg_log = LogisticRegression(solver='lbfgs', multi_class='auto',random_state = 0)\n",
    "reg_log.fit(x, y)\n",
    "\n",
    "# Prédictions des probabilités\n",
    "prob_pred = reg_log.predict_proba(x)\n",
    "\n",
    "# Prédictions des résultats du Test set\n",
    "y_pred = reg_log.predict(x)\n",
    "\n",
    "# Matrice de confusion\n",
    "from sklearn.metrics import confusion_matrix\n",
    "cm = confusion_matrix(y, y_pred)\n",
    "print(cm)"
   ]
  },
  {
   "cell_type": "markdown",
   "metadata": {},
   "source": [
    "### Afficher sur un même graphique, le scatter plot, la droite de régression et les probabilités"
   ]
  },
  {
   "cell_type": "code",
   "execution_count": 7,
   "metadata": {
    "scrolled": true
   },
   "outputs": [
    {
     "data": {
      "image/png": "[encoded data removed]",
      "text/plain": [
       "<Figure size 432x288 with 1 Axes>"
      ]
     },
     "metadata": {
      "needs_background": "light"
     },
     "output_type": "display_data"
    }
   ],
   "source": [
    "plt.scatter(x,y)\n",
    "plt.plot(x,model.predict(x),c='red')\n",
    "plt.plot(sorted(x),reg_log.predict_proba(sorted(x))[:,1],c='green')\n",
    "plt.show()"
   ]
  },
  {
   "cell_type": "markdown",
   "metadata": {},
   "source": [
    "### Construire un second modèle de régression logistique avec cette fois l'âge et le genre comme variables explicatives et visualiser sur les résultats sur le même graphique que précédemment"
   ]
  },
  {
   "cell_type": "code",
   "execution_count": 8,
   "metadata": {},
   "outputs": [
    {
     "name": "stdout",
     "output_type": "stream",
     "text": [
      "[[57  3]\n",
      " [ 3 37]]\n"
     ]
    },
    {
     "data": {
      "image/png": "[encoded data removed]",
      "text/plain": [
       "<Figure size 432x288 with 1 Axes>"
      ]
     },
     "metadata": {
      "needs_background": "light"
     },
     "output_type": "display_data"
    }
   ],
   "source": [
    "X = data[['Age','Gender']]\n",
    "y = data['TookAction']\n",
    "\n",
    "# Variable Genre catégorique\n",
    "dummies = pd.get_dummies(X.Gender)\n",
    "X = pd.concat([X,dummies], axis=1)\n",
    "X.drop(['Gender','Male'],inplace=True,axis=1)\n",
    "\n",
    "# Modèle de régression logistique sur le training set\n",
    "from sklearn.linear_model import LogisticRegression\n",
    "reg_log2 = LogisticRegression(solver='lbfgs', multi_class='auto', penalty ='none', random_state = 0)\n",
    "reg_log2.fit(X, y)\n",
    "\n",
    "# Matrice de confusion\n",
    "from sklearn.metrics import confusion_matrix\n",
    "cm = confusion_matrix(y, reg_log2.predict(X))\n",
    "print(cm)\n",
    "\n",
    "# Visualisation des probabilités prédites\n",
    "plt.scatter(x,y)\n",
    "plt.plot(x,model.predict(x),c='red')\n",
    "plt.plot(sorted(x),reg_log.predict_proba(sorted(x))[:,1],c='green')\n",
    "plt.scatter(sorted(X.Age),reg_log2.predict_proba(X.sort_values('Age'))[:,1],c='purple')\n",
    "plt.show()"
   ]
  },
  {
   "cell_type": "markdown",
   "metadata": {},
   "source": [
    "## Évaluation du modèle"
   ]
  },
  {
   "cell_type": "markdown",
   "metadata": {},
   "source": [
    "### Matrice de confusion"
   ]
  },
  {
   "cell_type": "code",
   "execution_count": 9,
   "metadata": {},
   "outputs": [
    {
     "data": {
      "text/html": [
       "<div>\n",
       "<style scoped>\n",
       "    .dataframe tbody tr th:only-of-type {\n",
       "        vertical-align: middle;\n",
       "    }\n",
       "\n",
       "    .dataframe tbody tr th {\n",
       "        vertical-align: top;\n",
       "    }\n",
       "\n",
       "    .dataframe thead th {\n",
       "        text-align: right;\n",
       "    }\n",
       "</style>\n",
       "<table border=\"1\" class=\"dataframe\">\n",
       "  <thead>\n",
       "    <tr style=\"text-align: right;\">\n",
       "      <th></th>\n",
       "      <th>prédit 0</th>\n",
       "      <th>prédit 1</th>\n",
       "    </tr>\n",
       "  </thead>\n",
       "  <tbody>\n",
       "    <tr>\n",
       "      <th>vrai 0</th>\n",
       "      <td>57</td>\n",
       "      <td>3</td>\n",
       "    </tr>\n",
       "    <tr>\n",
       "      <th>vrai 1</th>\n",
       "      <td>3</td>\n",
       "      <td>37</td>\n",
       "    </tr>\n",
       "  </tbody>\n",
       "</table>\n",
       "</div>"
      ],
      "text/plain": [
       "        prédit 0  prédit 1\n",
       "vrai 0        57         3\n",
       "vrai 1         3        37"
      ]
     },
     "execution_count": 9,
     "metadata": {},
     "output_type": "execute_result"
    }
   ],
   "source": [
    "#affichage plus \"joli\" de la matrice de confusion\n",
    "cm = pd.DataFrame(cm, columns=['prédit ' + str(_) for _ in reg_log2.classes_])\n",
    "cm.index = ['vrai ' + str(_) for _ in reg_log2.classes_]\n",
    "cm"
   ]
  },
  {
   "cell_type": "markdown",
   "metadata": {},
   "source": [
    "### Affichage des probabilités"
   ]
  },
  {
   "cell_type": "code",
   "execution_count": 10,
   "metadata": {},
   "outputs": [
    {
     "data": {
      "image/png": "[encoded data removed]",
      "text/plain": [
       "<Figure size 648x360 with 1 Axes>"
      ]
     },
     "metadata": {
      "needs_background": "light"
     },
     "output_type": "display_data"
    }
   ],
   "source": [
    "proba_1 = reg_log2.predict_proba(X)[:, 1]\n",
    "pr = pd.DataFrame(proba_1, columns=['proba'])\n",
    "pr['Action'] = y.values\n",
    "\n",
    "fig, ax = plt.subplots(1,1,figsize=(9,5))\n",
    "\n",
    "pr[pr.Action == 1]['proba'].hist(bins=25, label='Action', alpha=0.5, ax=ax)\n",
    "pr[pr.Action == 0]['proba'].hist(bins=25, label='No action', alpha=0.5, ax=ax)\n",
    "ax.plot([0.5, 0.5], [0, 1000], 'g--', label=\"frontière ?\")\n",
    "ax.set_yscale('log') #l'échelle logarithmique permet de mieux voir les probabilités qui sont faibles\n",
    "ax.set_title('Distribution des probabilités des deux classes\\néchelle logarithmique')\n",
    "ax.legend();"
   ]
  },
  {
   "cell_type": "markdown",
   "metadata": {},
   "source": [
    "### Courbe ROC et AUC"
   ]
  },
  {
   "cell_type": "code",
   "execution_count": 11,
   "metadata": {},
   "outputs": [],
   "source": [
    "from sklearn.metrics import roc_auc_score, roc_curve, auc\n",
    "proba = reg_log2.predict_proba(X)\n",
    "fpr0, tpr0, thresholds0 = roc_curve(y, proba[:, 0], pos_label=reg_log2.classes_[0], drop_intermediate=False)"
   ]
  },
  {
   "cell_type": "code",
   "execution_count": 12,
   "metadata": {},
   "outputs": [
    {
     "data": {
      "text/html": [
       "<div>\n",
       "<style scoped>\n",
       "    .dataframe tbody tr th:only-of-type {\n",
       "        vertical-align: middle;\n",
       "    }\n",
       "\n",
       "    .dataframe tbody tr th {\n",
       "        vertical-align: top;\n",
       "    }\n",
       "\n",
       "    .dataframe thead th {\n",
       "        text-align: right;\n",
       "    }\n",
       "</style>\n",
       "<table border=\"1\" class=\"dataframe\">\n",
       "  <thead>\n",
       "    <tr style=\"text-align: right;\">\n",
       "      <th></th>\n",
       "      <th>fpr</th>\n",
       "      <th>tpr</th>\n",
       "      <th>threshold</th>\n",
       "    </tr>\n",
       "  </thead>\n",
       "  <tbody>\n",
       "    <tr>\n",
       "      <th>1</th>\n",
       "      <td>0.0</td>\n",
       "      <td>0.033333</td>\n",
       "      <td>1.000000</td>\n",
       "    </tr>\n",
       "    <tr>\n",
       "      <th>2</th>\n",
       "      <td>0.0</td>\n",
       "      <td>0.066667</td>\n",
       "      <td>0.999999</td>\n",
       "    </tr>\n",
       "    <tr>\n",
       "      <th>3</th>\n",
       "      <td>0.0</td>\n",
       "      <td>0.100000</td>\n",
       "      <td>0.999998</td>\n",
       "    </tr>\n",
       "  </tbody>\n",
       "</table>\n",
       "</div>"
      ],
      "text/plain": [
       "   fpr       tpr  threshold\n",
       "1  0.0  0.033333   1.000000\n",
       "2  0.0  0.066667   0.999999\n",
       "3  0.0  0.100000   0.999998"
      ]
     },
     "execution_count": 12,
     "metadata": {},
     "output_type": "execute_result"
    }
   ],
   "source": [
    "tp = pd.DataFrame(dict(fpr=fpr0, tpr=tpr0, threshold=thresholds0)).copy()\n",
    "tp.drop(0, axis=0, inplace=True) #suppression du 1er seuil fixé arbitrairement à 2\n",
    "tp.head(3)"
   ]
  },
  {
   "cell_type": "code",
   "execution_count": 13,
   "metadata": {},
   "outputs": [
    {
     "data": {
      "image/png": "[encoded data removed]",
      "text/plain": [
       "<Figure size 432x432 with 1 Axes>"
      ]
     },
     "metadata": {
      "needs_background": "light"
     },
     "output_type": "display_data"
    }
   ],
   "source": [
    "ax = tp.plot(x=\"threshold\", y=['fpr', 'tpr'], figsize=(6,6))\n",
    "ax.set_title(\"Evolution de FPR, TPR\\nen fonction du seuil au delà duquel\\n\" + \n",
    "             \"la réponse du classifieur est validée\");"
   ]
  },
  {
   "cell_type": "code",
   "execution_count": 14,
   "metadata": {},
   "outputs": [
    {
     "data": {
      "image/png": "[encoded data removed]",
      "text/plain": [
       "<Figure size 432x432 with 1 Axes>"
      ]
     },
     "metadata": {
      "needs_background": "light"
     },
     "output_type": "display_data"
    }
   ],
   "source": [
    "fig, ax = plt.subplots(1, 1, figsize=(6,6))\n",
    "ax.plot([0, 1], [0, 1], 'k--')\n",
    "aucf = auc(fpr0, tpr0)\n",
    "ax.plot(fpr0, tpr0, label='auc=%1.5f' % aucf)\n",
    "ax.set_title('Courbe ROC')\n",
    "ax.text(0.5, 0.3, \"plus mauvais que\\nle hasard dans\\ncette zone\")\n",
    "ax.legend();"
   ]
  },
  {
   "cell_type": "code",
   "execution_count": 20,
   "metadata": {},
   "outputs": [
    {
     "data": {
      "image/png": "[encoded data removed]",
      "text/plain": [
       "<Figure size 432x432 with 1 Axes>"
      ]
     },
     "metadata": {
      "needs_background": "light"
     },
     "output_type": "display_data"
    }
   ],
   "source": [
    "from sklearn.metrics import precision_recall_curve\n",
    "precision, recall, thresholds = precision_recall_curve(y, proba[:, 0], pos_label=reg_log2.classes_[0])\n",
    "\n",
    "pr = pd.DataFrame(dict(precision=precision, recall=recall, \n",
    "                             threshold=[0] + list(thresholds)))\n",
    "\n",
    "ax = pr.plot(x=\"threshold\", y=['precision', 'recall'], figsize=(6,6))\n",
    "ax.set_title(\"Evolution de la précision et du rappel\\nen fonction du seuil au delà duquel\\n\" + \n",
    "             \"la réponse du classifieur est validée\");"
   ]
  },
  {
   "cell_type": "markdown",
   "metadata": {},
   "source": [
    "## Interprétation des coefficients"
   ]
  },
  {
   "cell_type": "code",
   "execution_count": 16,
   "metadata": {},
   "outputs": [
    {
     "data": {
      "text/html": [
       "<div>\n",
       "<style scoped>\n",
       "    .dataframe tbody tr th:only-of-type {\n",
       "        vertical-align: middle;\n",
       "    }\n",
       "\n",
       "    .dataframe tbody tr th {\n",
       "        vertical-align: top;\n",
       "    }\n",
       "\n",
       "    .dataframe thead th {\n",
       "        text-align: right;\n",
       "    }\n",
       "</style>\n",
       "<table border=\"1\" class=\"dataframe\">\n",
       "  <thead>\n",
       "    <tr style=\"text-align: right;\">\n",
       "      <th></th>\n",
       "      <th>Coefficients</th>\n",
       "      <th>OR</th>\n",
       "    </tr>\n",
       "  </thead>\n",
       "  <tbody>\n",
       "    <tr>\n",
       "      <th>constante</th>\n",
       "      <td>-33.714578</td>\n",
       "      <td>2.280052e-15</td>\n",
       "    </tr>\n",
       "    <tr>\n",
       "      <th>Age</th>\n",
       "      <td>0.887226</td>\n",
       "      <td>2.428383e+00</td>\n",
       "    </tr>\n",
       "    <tr>\n",
       "      <th>Female</th>\n",
       "      <td>-4.437377</td>\n",
       "      <td>1.182692e-02</td>\n",
       "    </tr>\n",
       "  </tbody>\n",
       "</table>\n",
       "</div>"
      ],
      "text/plain": [
       "           Coefficients            OR\n",
       "constante    -33.714578  2.280052e-15\n",
       "Age            0.887226  2.428383e+00\n",
       "Female        -4.437377  1.182692e-02"
      ]
     },
     "execution_count": 16,
     "metadata": {},
     "output_type": "execute_result"
    }
   ],
   "source": [
    "### Affichage des coefficients obtenus avec sklearn sous forme d'un dataframe\n",
    "coef = pd.DataFrame(np.concatenate([reg_log2.intercept_.reshape(-1,1), reg_log2.coef_],axis=1),\n",
    "             index = [\"Coefficients\"],\n",
    "             columns = [\"constante\"]+list(X.columns)).T\n",
    "\n",
    "# Calcul de l'exponentiel pour avoir les odds-ratio\n",
    "coef[\"OR\"] = np.exp(coef.Coefficients)\n",
    "coef"
   ]
  },
  {
   "cell_type": "markdown",
   "metadata": {},
   "source": [
    "Interprétation :\n",
    "- si on augmente l'âge d'un an, alors la probabilité de cliquer augmente 140%\n",
    "- Une femme a 85 fois moins de chances de cliquer qu'un homme (1/0.0118)"
   ]
  },
  {
   "cell_type": "code",
   "execution_count": 17,
   "metadata": {},
   "outputs": [
    {
     "name": "stdout",
     "output_type": "stream",
     "text": [
      "Optimization terminated successfully.\n",
      "         Current function value: 0.148067\n",
      "         Iterations 10\n"
     ]
    },
    {
     "name": "stderr",
     "output_type": "stream",
     "text": [
      "C:\\ProgramData\\Anaconda3\\lib\\site-packages\\numpy\\core\\fromnumeric.py:2542: FutureWarning: Method .ptp is deprecated and will be removed in a future version. Use numpy.ptp instead.\n",
      "  return ptp(axis=axis, out=out, **kwargs)\n"
     ]
    },
    {
     "data": {
      "text/html": [
       "<table class=\"simpletable\">\n",
       "<caption>Logit Regression Results</caption>\n",
       "<tr>\n",
       "  <th>Dep. Variable:</th>      <td>TookAction</td>    <th>  No. Observations:  </th>  <td>   100</td>  \n",
       "</tr>\n",
       "<tr>\n",
       "  <th>Model:</th>                 <td>Logit</td>      <th>  Df Residuals:      </th>  <td>    97</td>  \n",
       "</tr>\n",
       "<tr>\n",
       "  <th>Method:</th>                 <td>MLE</td>       <th>  Df Model:          </th>  <td>     2</td>  \n",
       "</tr>\n",
       "<tr>\n",
       "  <th>Date:</th>            <td>Mon, 27 Jan 2020</td> <th>  Pseudo R-squ.:     </th>  <td>0.7800</td>  \n",
       "</tr>\n",
       "<tr>\n",
       "  <th>Time:</th>                <td>20:01:40</td>     <th>  Log-Likelihood:    </th> <td> -14.807</td> \n",
       "</tr>\n",
       "<tr>\n",
       "  <th>converged:</th>             <td>True</td>       <th>  LL-Null:           </th> <td> -67.301</td> \n",
       "</tr>\n",
       "<tr>\n",
       "  <th>Covariance Type:</th>     <td>nonrobust</td>    <th>  LLR p-value:       </th> <td>1.592e-23</td>\n",
       "</tr>\n",
       "</table>\n",
       "<table class=\"simpletable\">\n",
       "<tr>\n",
       "     <td></td>       <th>coef</th>     <th>std err</th>      <th>z</th>      <th>P>|z|</th>  <th>[0.025</th>    <th>0.975]</th>  \n",
       "</tr>\n",
       "<tr>\n",
       "  <th>const</th>  <td>  -33.7146</td> <td>    8.833</td> <td>   -3.817</td> <td> 0.000</td> <td>  -51.027</td> <td>  -16.402</td>\n",
       "</tr>\n",
       "<tr>\n",
       "  <th>Age</th>    <td>    0.8872</td> <td>    0.232</td> <td>    3.828</td> <td> 0.000</td> <td>    0.433</td> <td>    1.342</td>\n",
       "</tr>\n",
       "<tr>\n",
       "  <th>Female</th> <td>   -4.4374</td> <td>    1.492</td> <td>   -2.974</td> <td> 0.003</td> <td>   -7.361</td> <td>   -1.513</td>\n",
       "</tr>\n",
       "</table><br/><br/>Possibly complete quasi-separation: A fraction 0.22 of observations can be<br/>perfectly predicted. This might indicate that there is complete<br/>quasi-separation. In this case some parameters will not be identified."
      ],
      "text/plain": [
       "<class 'statsmodels.iolib.summary.Summary'>\n",
       "\"\"\"\n",
       "                           Logit Regression Results                           \n",
       "==============================================================================\n",
       "Dep. Variable:             TookAction   No. Observations:                  100\n",
       "Model:                          Logit   Df Residuals:                       97\n",
       "Method:                           MLE   Df Model:                            2\n",
       "Date:                Mon, 27 Jan 2020   Pseudo R-squ.:                  0.7800\n",
       "Time:                        20:01:40   Log-Likelihood:                -14.807\n",
       "converged:                       True   LL-Null:                       -67.301\n",
       "Covariance Type:            nonrobust   LLR p-value:                 1.592e-23\n",
       "==============================================================================\n",
       "                 coef    std err          z      P>|z|      [0.025      0.975]\n",
       "------------------------------------------------------------------------------\n",
       "const        -33.7146      8.833     -3.817      0.000     -51.027     -16.402\n",
       "Age            0.8872      0.232      3.828      0.000       0.433       1.342\n",
       "Female        -4.4374      1.492     -2.974      0.003      -7.361      -1.513\n",
       "==============================================================================\n",
       "\n",
       "Possibly complete quasi-separation: A fraction 0.22 of observations can be\n",
       "perfectly predicted. This might indicate that there is complete\n",
       "quasi-separation. In this case some parameters will not be identified.\n",
       "\"\"\""
      ]
     },
     "execution_count": 17,
     "metadata": {},
     "output_type": "execute_result"
    }
   ],
   "source": [
    "### Construction du même modèle avec statsmodels\n",
    "import statsmodels.api as sm\n",
    "X = sm.add_constant(X) #rappel: par défaut statsmodel ne met pas de constante dans les modèles\n",
    "reg_log3 = sm.Logit(y, X)\n",
    "res = reg_log3.fit()\n",
    "res.summary()"
   ]
  },
  {
   "cell_type": "code",
   "execution_count": 18,
   "metadata": {},
   "outputs": [
    {
     "name": "stdout",
     "output_type": "stream",
     "text": [
      "Optimization terminated successfully.\n",
      "         Current function value: 0.148067\n",
      "         Iterations 10\n"
     ]
    },
    {
     "data": {
      "text/html": [
       "<table class=\"simpletable\">\n",
       "<caption>Logit Regression Results</caption>\n",
       "<tr>\n",
       "  <th>Dep. Variable:</th>      <td>TookAction</td>    <th>  No. Observations:  </th>  <td>   100</td>  \n",
       "</tr>\n",
       "<tr>\n",
       "  <th>Model:</th>                 <td>Logit</td>      <th>  Df Residuals:      </th>  <td>    97</td>  \n",
       "</tr>\n",
       "<tr>\n",
       "  <th>Method:</th>                 <td>MLE</td>       <th>  Df Model:          </th>  <td>     2</td>  \n",
       "</tr>\n",
       "<tr>\n",
       "  <th>Date:</th>            <td>Mon, 27 Jan 2020</td> <th>  Pseudo R-squ.:     </th>  <td>0.7800</td>  \n",
       "</tr>\n",
       "<tr>\n",
       "  <th>Time:</th>                <td>20:01:46</td>     <th>  Log-Likelihood:    </th> <td> -14.807</td> \n",
       "</tr>\n",
       "<tr>\n",
       "  <th>converged:</th>             <td>True</td>       <th>  LL-Null:           </th> <td> -67.301</td> \n",
       "</tr>\n",
       "<tr>\n",
       "  <th>Covariance Type:</th>     <td>nonrobust</td>    <th>  LLR p-value:       </th> <td>1.592e-23</td>\n",
       "</tr>\n",
       "</table>\n",
       "<table class=\"simpletable\">\n",
       "<tr>\n",
       "    <td></td>       <th>coef</th>     <th>std err</th>      <th>z</th>      <th>P>|z|</th>  <th>[0.025</th>    <th>0.975]</th>  \n",
       "</tr>\n",
       "<tr>\n",
       "  <th>const</th> <td>  -38.1520</td> <td>    9.987</td> <td>   -3.820</td> <td> 0.000</td> <td>  -57.726</td> <td>  -18.578</td>\n",
       "</tr>\n",
       "<tr>\n",
       "  <th>Age</th>   <td>    0.8872</td> <td>    0.232</td> <td>    3.828</td> <td> 0.000</td> <td>    0.433</td> <td>    1.342</td>\n",
       "</tr>\n",
       "<tr>\n",
       "  <th>Male</th>  <td>    4.4374</td> <td>    1.492</td> <td>    2.974</td> <td> 0.003</td> <td>    1.513</td> <td>    7.361</td>\n",
       "</tr>\n",
       "</table><br/><br/>Possibly complete quasi-separation: A fraction 0.22 of observations can be<br/>perfectly predicted. This might indicate that there is complete<br/>quasi-separation. In this case some parameters will not be identified."
      ],
      "text/plain": [
       "<class 'statsmodels.iolib.summary.Summary'>\n",
       "\"\"\"\n",
       "                           Logit Regression Results                           \n",
       "==============================================================================\n",
       "Dep. Variable:             TookAction   No. Observations:                  100\n",
       "Model:                          Logit   Df Residuals:                       97\n",
       "Method:                           MLE   Df Model:                            2\n",
       "Date:                Mon, 27 Jan 2020   Pseudo R-squ.:                  0.7800\n",
       "Time:                        20:01:46   Log-Likelihood:                -14.807\n",
       "converged:                       True   LL-Null:                       -67.301\n",
       "Covariance Type:            nonrobust   LLR p-value:                 1.592e-23\n",
       "==============================================================================\n",
       "                 coef    std err          z      P>|z|      [0.025      0.975]\n",
       "------------------------------------------------------------------------------\n",
       "const        -38.1520      9.987     -3.820      0.000     -57.726     -18.578\n",
       "Age            0.8872      0.232      3.828      0.000       0.433       1.342\n",
       "Male           4.4374      1.492      2.974      0.003       1.513       7.361\n",
       "==============================================================================\n",
       "\n",
       "Possibly complete quasi-separation: A fraction 0.22 of observations can be\n",
       "perfectly predicted. This might indicate that there is complete\n",
       "quasi-separation. In this case some parameters will not be identified.\n",
       "\"\"\""
      ]
     },
     "execution_count": 18,
     "metadata": {},
     "output_type": "execute_result"
    }
   ],
   "source": [
    "#Comparaison avec le modèle où on remplace Female par Male\n",
    "X = data[['Age','Gender']]\n",
    "dummies = pd.get_dummies(X.Gender)\n",
    "X = pd.concat([X,dummies], axis=1)\n",
    "X.drop(['Gender','Female'],inplace=True,axis=1)\n",
    "\n",
    "X = sm.add_constant(X)\n",
    "reg_log4 = sm.Logit(y, X)\n",
    "res = reg_log4.fit()\n",
    "res.summary()"
   ]
  },
  {
   "cell_type": "code",
   "execution_count": 19,
   "metadata": {},
   "outputs": [
    {
     "data": {
      "text/plain": [
       "const    2.696608e-17\n",
       "Age      2.428383e+00\n",
       "Male     8.455281e+01\n",
       "dtype: float64"
      ]
     },
     "execution_count": 19,
     "metadata": {},
     "output_type": "execute_result"
    }
   ],
   "source": [
    "np.exp(res.params)"
   ]
  },
  {
   "cell_type": "markdown",
   "metadata": {},
   "source": [
    "Interprétation : les hommes on 85 fois plus de chances de cliquer que les femmes"
   ]
  },
  {
   "cell_type": "code",
   "execution_count": null,
   "metadata": {},
   "outputs": [],
   "source": []
  }
 ],
 "metadata": {
  "kernelspec": {
   "display_name": "Python 3",
   "language": "python",
   "name": "python3"
  },
  "language_info": {
   "codemirror_mode": {
    "name": "ipython",
    "version": 3
   },
   "file_extension": ".py",
   "mimetype": "text/x-python",
   "name": "python",
   "nbconvert_exporter": "python",
   "pygments_lexer": "ipython3",
   "version": "3.7.5"
  },
  "toc": {
   "base_numbering": 1,
   "nav_menu": {},
   "number_sections": true,
   "sideBar": true,
   "skip_h1_title": false,
   "title_cell": "Table of Contents",
   "title_sidebar": "Contents",
   "toc_cell": true,
   "toc_position": {},
   "toc_section_display": true,
   "toc_window_display": true
  }
 },
 "nbformat": 4,
 "nbformat_minor": 2
}
